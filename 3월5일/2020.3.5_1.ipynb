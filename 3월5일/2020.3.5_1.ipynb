{
  "nbformat": 4,
  "nbformat_minor": 0,
  "metadata": {
    "colab": {
      "name": "Untitled2.ipynb",
      "provenance": [],
      "collapsed_sections": []
    },
    "kernelspec": {
      "name": "python3",
      "display_name": "Python 3"
    }
  },
  "cells": [
    {
      "cell_type": "code",
      "metadata": {
        "id": "GWclrKCygaiH",
        "colab_type": "code",
        "outputId": "d68391a8-30f1-4cbd-9e05-7e3fb84fe01b",
        "colab": {
          "base_uri": "https://localhost:8080/",
          "height": 161
        }
      },
      "source": [
        "import pandas as pd\n",
        "import numpy as np\n",
        "train=pd.read_csv(\"train.csv\")\n",
        "train.head(3)"
      ],
      "execution_count": 1,
      "outputs": [
        {
          "output_type": "execute_result",
          "data": {
            "text/html": [
              "<div>\n",
              "<style scoped>\n",
              "    .dataframe tbody tr th:only-of-type {\n",
              "        vertical-align: middle;\n",
              "    }\n",
              "\n",
              "    .dataframe tbody tr th {\n",
              "        vertical-align: top;\n",
              "    }\n",
              "\n",
              "    .dataframe thead th {\n",
              "        text-align: right;\n",
              "    }\n",
              "</style>\n",
              "<table border=\"1\" class=\"dataframe\">\n",
              "  <thead>\n",
              "    <tr style=\"text-align: right;\">\n",
              "      <th></th>\n",
              "      <th>id</th>\n",
              "      <th>X00</th>\n",
              "      <th>X01</th>\n",
              "      <th>X02</th>\n",
              "      <th>X03</th>\n",
              "      <th>X04</th>\n",
              "      <th>X05</th>\n",
              "      <th>X06</th>\n",
              "      <th>X07</th>\n",
              "      <th>X08</th>\n",
              "      <th>X09</th>\n",
              "      <th>X10</th>\n",
              "      <th>X11</th>\n",
              "      <th>X12</th>\n",
              "      <th>X13</th>\n",
              "      <th>X14</th>\n",
              "      <th>X15</th>\n",
              "      <th>X16</th>\n",
              "      <th>X17</th>\n",
              "      <th>X18</th>\n",
              "      <th>X19</th>\n",
              "      <th>X20</th>\n",
              "      <th>X21</th>\n",
              "      <th>X22</th>\n",
              "      <th>X23</th>\n",
              "      <th>X24</th>\n",
              "      <th>X25</th>\n",
              "      <th>X26</th>\n",
              "      <th>X27</th>\n",
              "      <th>X28</th>\n",
              "      <th>X29</th>\n",
              "      <th>X30</th>\n",
              "      <th>X31</th>\n",
              "      <th>X32</th>\n",
              "      <th>X33</th>\n",
              "      <th>X34</th>\n",
              "      <th>X35</th>\n",
              "      <th>X36</th>\n",
              "      <th>X37</th>\n",
              "      <th>X38</th>\n",
              "      <th>X39</th>\n",
              "      <th>Y00</th>\n",
              "      <th>Y01</th>\n",
              "      <th>Y02</th>\n",
              "      <th>Y03</th>\n",
              "      <th>Y04</th>\n",
              "      <th>Y05</th>\n",
              "      <th>Y06</th>\n",
              "      <th>Y07</th>\n",
              "      <th>Y08</th>\n",
              "      <th>Y09</th>\n",
              "      <th>Y10</th>\n",
              "      <th>Y11</th>\n",
              "      <th>Y12</th>\n",
              "      <th>Y13</th>\n",
              "      <th>Y14</th>\n",
              "      <th>Y15</th>\n",
              "      <th>Y16</th>\n",
              "      <th>Y17</th>\n",
              "      <th>Y18</th>\n",
              "    </tr>\n",
              "  </thead>\n",
              "  <tbody>\n",
              "    <tr>\n",
              "      <th>0</th>\n",
              "      <td>0</td>\n",
              "      <td>9.7</td>\n",
              "      <td>988.8</td>\n",
              "      <td>1.2</td>\n",
              "      <td>0.6</td>\n",
              "      <td>0.0</td>\n",
              "      <td>1009.3</td>\n",
              "      <td>989.6</td>\n",
              "      <td>12.2</td>\n",
              "      <td>1009.9</td>\n",
              "      <td>1009.8</td>\n",
              "      <td>0.0</td>\n",
              "      <td>0.0</td>\n",
              "      <td>82.4</td>\n",
              "      <td>71.3</td>\n",
              "      <td>0.0</td>\n",
              "      <td>101.1</td>\n",
              "      <td>0.0</td>\n",
              "      <td>56.1</td>\n",
              "      <td>0.3</td>\n",
              "      <td>0.0</td>\n",
              "      <td>91.0</td>\n",
              "      <td>0.0</td>\n",
              "      <td>1002.5</td>\n",
              "      <td>1009.8</td>\n",
              "      <td>1.1</td>\n",
              "      <td>2.3</td>\n",
              "      <td>0.5</td>\n",
              "      <td>1008.7</td>\n",
              "      <td>12.3</td>\n",
              "      <td>1001.6</td>\n",
              "      <td>69.1</td>\n",
              "      <td>8.2</td>\n",
              "      <td>10.7</td>\n",
              "      <td>1010.1</td>\n",
              "      <td>0.0</td>\n",
              "      <td>256.4</td>\n",
              "      <td>0.0</td>\n",
              "      <td>77.2</td>\n",
              "      <td>62.6</td>\n",
              "      <td>0.0</td>\n",
              "      <td>12.5</td>\n",
              "      <td>11.5</td>\n",
              "      <td>11.0</td>\n",
              "      <td>20.0</td>\n",
              "      <td>20.0</td>\n",
              "      <td>10.5</td>\n",
              "      <td>10.0</td>\n",
              "      <td>10.5</td>\n",
              "      <td>10.0</td>\n",
              "      <td>7.0</td>\n",
              "      <td>7.5</td>\n",
              "      <td>7.0</td>\n",
              "      <td>9.0</td>\n",
              "      <td>10.0</td>\n",
              "      <td>9.5</td>\n",
              "      <td>9.0</td>\n",
              "      <td>8.0</td>\n",
              "      <td>9.0</td>\n",
              "      <td>NaN</td>\n",
              "    </tr>\n",
              "    <tr>\n",
              "      <th>1</th>\n",
              "      <td>1</td>\n",
              "      <td>9.3</td>\n",
              "      <td>988.9</td>\n",
              "      <td>1.7</td>\n",
              "      <td>1.9</td>\n",
              "      <td>0.0</td>\n",
              "      <td>1009.3</td>\n",
              "      <td>989.6</td>\n",
              "      <td>12.1</td>\n",
              "      <td>1010.0</td>\n",
              "      <td>1009.9</td>\n",
              "      <td>0.0</td>\n",
              "      <td>0.0</td>\n",
              "      <td>81.2</td>\n",
              "      <td>121.8</td>\n",
              "      <td>0.0</td>\n",
              "      <td>165.3</td>\n",
              "      <td>0.0</td>\n",
              "      <td>0.0</td>\n",
              "      <td>0.4</td>\n",
              "      <td>0.0</td>\n",
              "      <td>91.9</td>\n",
              "      <td>0.0</td>\n",
              "      <td>1002.5</td>\n",
              "      <td>1009.9</td>\n",
              "      <td>0.0</td>\n",
              "      <td>0.0</td>\n",
              "      <td>0.0</td>\n",
              "      <td>1008.7</td>\n",
              "      <td>12.1</td>\n",
              "      <td>1001.7</td>\n",
              "      <td>70.3</td>\n",
              "      <td>8.3</td>\n",
              "      <td>10.3</td>\n",
              "      <td>1010.1</td>\n",
              "      <td>0.0</td>\n",
              "      <td>215.4</td>\n",
              "      <td>0.0</td>\n",
              "      <td>77.3</td>\n",
              "      <td>63.5</td>\n",
              "      <td>0.0</td>\n",
              "      <td>12.5</td>\n",
              "      <td>11.0</td>\n",
              "      <td>11.0</td>\n",
              "      <td>20.0</td>\n",
              "      <td>20.0</td>\n",
              "      <td>10.0</td>\n",
              "      <td>9.5</td>\n",
              "      <td>10.0</td>\n",
              "      <td>9.5</td>\n",
              "      <td>6.5</td>\n",
              "      <td>7.5</td>\n",
              "      <td>7.0</td>\n",
              "      <td>8.5</td>\n",
              "      <td>10.0</td>\n",
              "      <td>9.5</td>\n",
              "      <td>9.0</td>\n",
              "      <td>7.5</td>\n",
              "      <td>9.0</td>\n",
              "      <td>NaN</td>\n",
              "    </tr>\n",
              "    <tr>\n",
              "      <th>2</th>\n",
              "      <td>2</td>\n",
              "      <td>9.4</td>\n",
              "      <td>989.0</td>\n",
              "      <td>1.1</td>\n",
              "      <td>2.3</td>\n",
              "      <td>0.0</td>\n",
              "      <td>1009.2</td>\n",
              "      <td>989.7</td>\n",
              "      <td>12.1</td>\n",
              "      <td>1010.1</td>\n",
              "      <td>1010.1</td>\n",
              "      <td>0.0</td>\n",
              "      <td>0.0</td>\n",
              "      <td>86.1</td>\n",
              "      <td>232.0</td>\n",
              "      <td>0.0</td>\n",
              "      <td>144.0</td>\n",
              "      <td>0.0</td>\n",
              "      <td>0.0</td>\n",
              "      <td>0.6</td>\n",
              "      <td>0.0</td>\n",
              "      <td>93.3</td>\n",
              "      <td>0.0</td>\n",
              "      <td>1002.4</td>\n",
              "      <td>1009.8</td>\n",
              "      <td>0.0</td>\n",
              "      <td>0.0</td>\n",
              "      <td>0.0</td>\n",
              "      <td>1008.6</td>\n",
              "      <td>12.1</td>\n",
              "      <td>1001.6</td>\n",
              "      <td>71.5</td>\n",
              "      <td>8.0</td>\n",
              "      <td>9.7</td>\n",
              "      <td>1010.0</td>\n",
              "      <td>0.0</td>\n",
              "      <td>235.2</td>\n",
              "      <td>0.0</td>\n",
              "      <td>77.3</td>\n",
              "      <td>63.9</td>\n",
              "      <td>0.0</td>\n",
              "      <td>12.0</td>\n",
              "      <td>11.0</td>\n",
              "      <td>11.0</td>\n",
              "      <td>19.5</td>\n",
              "      <td>19.5</td>\n",
              "      <td>10.0</td>\n",
              "      <td>9.0</td>\n",
              "      <td>10.0</td>\n",
              "      <td>9.0</td>\n",
              "      <td>6.5</td>\n",
              "      <td>7.5</td>\n",
              "      <td>6.5</td>\n",
              "      <td>8.0</td>\n",
              "      <td>9.5</td>\n",
              "      <td>9.5</td>\n",
              "      <td>8.5</td>\n",
              "      <td>7.5</td>\n",
              "      <td>8.5</td>\n",
              "      <td>NaN</td>\n",
              "    </tr>\n",
              "  </tbody>\n",
              "</table>\n",
              "</div>"
            ],
            "text/plain": [
              "   id  X00    X01  X02  X03  X04     X05  ...  Y12   Y13  Y14  Y15  Y16  Y17  Y18\n",
              "0   0  9.7  988.8  1.2  0.6  0.0  1009.3  ...  9.0  10.0  9.5  9.0  8.0  9.0  NaN\n",
              "1   1  9.3  988.9  1.7  1.9  0.0  1009.3  ...  8.5  10.0  9.5  9.0  7.5  9.0  NaN\n",
              "2   2  9.4  989.0  1.1  2.3  0.0  1009.2  ...  8.0   9.5  9.5  8.5  7.5  8.5  NaN\n",
              "\n",
              "[3 rows x 60 columns]"
            ]
          },
          "metadata": {
            "tags": []
          },
          "execution_count": 1
        }
      ]
    },
    {
      "cell_type": "code",
      "metadata": {
        "id": "EQDKLyxWgoKU",
        "colab_type": "code",
        "outputId": "9c5d267b-6516-42b7-b68c-8daf0ee65903",
        "colab": {
          "base_uri": "https://localhost:8080/",
          "height": 1000
        }
      },
      "source": [
        "train.info()"
      ],
      "execution_count": 2,
      "outputs": [
        {
          "output_type": "stream",
          "text": [
            "<class 'pandas.core.frame.DataFrame'>\n",
            "RangeIndex: 4752 entries, 0 to 4751\n",
            "Data columns (total 60 columns):\n",
            "id     4752 non-null int64\n",
            "X00    4752 non-null float64\n",
            "X01    4752 non-null float64\n",
            "X02    4752 non-null float64\n",
            "X03    4752 non-null float64\n",
            "X04    4752 non-null float64\n",
            "X05    4752 non-null float64\n",
            "X06    4752 non-null float64\n",
            "X07    4752 non-null float64\n",
            "X08    4752 non-null float64\n",
            "X09    4752 non-null float64\n",
            "X10    4752 non-null float64\n",
            "X11    4752 non-null float64\n",
            "X12    4752 non-null float64\n",
            "X13    4752 non-null float64\n",
            "X14    4752 non-null float64\n",
            "X15    4752 non-null float64\n",
            "X16    4752 non-null float64\n",
            "X17    4752 non-null float64\n",
            "X18    4752 non-null float64\n",
            "X19    4752 non-null float64\n",
            "X20    4752 non-null float64\n",
            "X21    4752 non-null float64\n",
            "X22    4752 non-null float64\n",
            "X23    4752 non-null float64\n",
            "X24    4752 non-null float64\n",
            "X25    4752 non-null float64\n",
            "X26    4752 non-null float64\n",
            "X27    4752 non-null float64\n",
            "X28    4752 non-null float64\n",
            "X29    4752 non-null float64\n",
            "X30    4752 non-null float64\n",
            "X31    4752 non-null float64\n",
            "X32    4752 non-null float64\n",
            "X33    4752 non-null float64\n",
            "X34    4752 non-null float64\n",
            "X35    4752 non-null float64\n",
            "X36    4752 non-null float64\n",
            "X37    4752 non-null float64\n",
            "X38    4752 non-null float64\n",
            "X39    4752 non-null float64\n",
            "Y00    4320 non-null float64\n",
            "Y01    4320 non-null float64\n",
            "Y02    4320 non-null float64\n",
            "Y03    4320 non-null float64\n",
            "Y04    4320 non-null float64\n",
            "Y05    4320 non-null float64\n",
            "Y06    4320 non-null float64\n",
            "Y07    4320 non-null float64\n",
            "Y08    4320 non-null float64\n",
            "Y09    4320 non-null float64\n",
            "Y10    4320 non-null float64\n",
            "Y11    4320 non-null float64\n",
            "Y12    4320 non-null float64\n",
            "Y13    4320 non-null float64\n",
            "Y14    4320 non-null float64\n",
            "Y15    4320 non-null float64\n",
            "Y16    4320 non-null float64\n",
            "Y17    4320 non-null float64\n",
            "Y18    432 non-null float64\n",
            "dtypes: float64(59), int64(1)\n",
            "memory usage: 2.2 MB\n"
          ],
          "name": "stdout"
        }
      ]
    },
    {
      "cell_type": "code",
      "metadata": {
        "id": "kQJd8B-Egpit",
        "colab_type": "code",
        "colab": {}
      },
      "source": [
        "#같은 feauture?\n",
        "f_temp=train[['X00','X07','X28','X31','X32']] #기온\n",
        "f_atmos=train[['X01','X06','X22','X27','X29']] #현지기압\n",
        "f_wind=train[['X02','X03','X18','X24','X26']] #풍속\n",
        "f_rain=train[['X04','X10','X21','X36','X39']] #일일누적강수량\n",
        "f_sea=train[['X05','X08','X09','X23','X33']] #해면기압\n",
        "f_solar=train[['X11','X14','X16','X19','X34']] #일일누적일사량\n",
        "f_hum=train[['X12','X20','X30','X37','X38']] #습도\n",
        "f_dir=train[['X13','X15','X17','X25','X35']] #풍향"
      ],
      "execution_count": 0,
      "outputs": []
    },
    {
      "cell_type": "code",
      "metadata": {
        "id": "m8kmv8A_hyF6",
        "colab_type": "code",
        "outputId": "5e7dfc16-763f-4d8c-978b-8107c287c4a7",
        "colab": {
          "base_uri": "https://localhost:8080/",
          "height": 202
        }
      },
      "source": [
        "f_temp.head()"
      ],
      "execution_count": 4,
      "outputs": [
        {
          "output_type": "execute_result",
          "data": {
            "text/html": [
              "<div>\n",
              "<style scoped>\n",
              "    .dataframe tbody tr th:only-of-type {\n",
              "        vertical-align: middle;\n",
              "    }\n",
              "\n",
              "    .dataframe tbody tr th {\n",
              "        vertical-align: top;\n",
              "    }\n",
              "\n",
              "    .dataframe thead th {\n",
              "        text-align: right;\n",
              "    }\n",
              "</style>\n",
              "<table border=\"1\" class=\"dataframe\">\n",
              "  <thead>\n",
              "    <tr style=\"text-align: right;\">\n",
              "      <th></th>\n",
              "      <th>X00</th>\n",
              "      <th>X07</th>\n",
              "      <th>X28</th>\n",
              "      <th>X31</th>\n",
              "      <th>X32</th>\n",
              "    </tr>\n",
              "  </thead>\n",
              "  <tbody>\n",
              "    <tr>\n",
              "      <th>0</th>\n",
              "      <td>9.7</td>\n",
              "      <td>12.2</td>\n",
              "      <td>12.3</td>\n",
              "      <td>8.2</td>\n",
              "      <td>10.7</td>\n",
              "    </tr>\n",
              "    <tr>\n",
              "      <th>1</th>\n",
              "      <td>9.3</td>\n",
              "      <td>12.1</td>\n",
              "      <td>12.1</td>\n",
              "      <td>8.3</td>\n",
              "      <td>10.3</td>\n",
              "    </tr>\n",
              "    <tr>\n",
              "      <th>2</th>\n",
              "      <td>9.4</td>\n",
              "      <td>12.1</td>\n",
              "      <td>12.1</td>\n",
              "      <td>8.0</td>\n",
              "      <td>9.7</td>\n",
              "    </tr>\n",
              "    <tr>\n",
              "      <th>3</th>\n",
              "      <td>9.4</td>\n",
              "      <td>12.0</td>\n",
              "      <td>12.1</td>\n",
              "      <td>7.7</td>\n",
              "      <td>9.4</td>\n",
              "    </tr>\n",
              "    <tr>\n",
              "      <th>4</th>\n",
              "      <td>9.2</td>\n",
              "      <td>12.0</td>\n",
              "      <td>12.0</td>\n",
              "      <td>7.4</td>\n",
              "      <td>9.4</td>\n",
              "    </tr>\n",
              "  </tbody>\n",
              "</table>\n",
              "</div>"
            ],
            "text/plain": [
              "   X00   X07   X28  X31   X32\n",
              "0  9.7  12.2  12.3  8.2  10.7\n",
              "1  9.3  12.1  12.1  8.3  10.3\n",
              "2  9.4  12.1  12.1  8.0   9.7\n",
              "3  9.4  12.0  12.1  7.7   9.4\n",
              "4  9.2  12.0  12.0  7.4   9.4"
            ]
          },
          "metadata": {
            "tags": []
          },
          "execution_count": 4
        }
      ]
    },
    {
      "cell_type": "code",
      "metadata": {
        "id": "bB71lSakgulm",
        "colab_type": "code",
        "colab": {}
      },
      "source": [
        "#누적값 처리\n",
        "f_solar_each=f_solar.diff().clip(lower=0)\n",
        "f_rain_each=f_rain.diff().clip(lower=0)"
      ],
      "execution_count": 0,
      "outputs": []
    },
    {
      "cell_type": "code",
      "metadata": {
        "id": "Md-LX7aEgwb8",
        "colab_type": "code",
        "outputId": "574f721b-6ceb-4311-a599-b0e854642598",
        "colab": {
          "base_uri": "https://localhost:8080/",
          "height": 202
        }
      },
      "source": [
        "f_solar_each.head()"
      ],
      "execution_count": 6,
      "outputs": [
        {
          "output_type": "execute_result",
          "data": {
            "text/html": [
              "<div>\n",
              "<style scoped>\n",
              "    .dataframe tbody tr th:only-of-type {\n",
              "        vertical-align: middle;\n",
              "    }\n",
              "\n",
              "    .dataframe tbody tr th {\n",
              "        vertical-align: top;\n",
              "    }\n",
              "\n",
              "    .dataframe thead th {\n",
              "        text-align: right;\n",
              "    }\n",
              "</style>\n",
              "<table border=\"1\" class=\"dataframe\">\n",
              "  <thead>\n",
              "    <tr style=\"text-align: right;\">\n",
              "      <th></th>\n",
              "      <th>X11</th>\n",
              "      <th>X14</th>\n",
              "      <th>X16</th>\n",
              "      <th>X19</th>\n",
              "      <th>X34</th>\n",
              "    </tr>\n",
              "  </thead>\n",
              "  <tbody>\n",
              "    <tr>\n",
              "      <th>0</th>\n",
              "      <td>NaN</td>\n",
              "      <td>NaN</td>\n",
              "      <td>NaN</td>\n",
              "      <td>NaN</td>\n",
              "      <td>NaN</td>\n",
              "    </tr>\n",
              "    <tr>\n",
              "      <th>1</th>\n",
              "      <td>0.0</td>\n",
              "      <td>0.0</td>\n",
              "      <td>0.0</td>\n",
              "      <td>0.0</td>\n",
              "      <td>0.0</td>\n",
              "    </tr>\n",
              "    <tr>\n",
              "      <th>2</th>\n",
              "      <td>0.0</td>\n",
              "      <td>0.0</td>\n",
              "      <td>0.0</td>\n",
              "      <td>0.0</td>\n",
              "      <td>0.0</td>\n",
              "    </tr>\n",
              "    <tr>\n",
              "      <th>3</th>\n",
              "      <td>0.0</td>\n",
              "      <td>0.0</td>\n",
              "      <td>0.0</td>\n",
              "      <td>0.0</td>\n",
              "      <td>0.0</td>\n",
              "    </tr>\n",
              "    <tr>\n",
              "      <th>4</th>\n",
              "      <td>0.0</td>\n",
              "      <td>0.0</td>\n",
              "      <td>0.0</td>\n",
              "      <td>0.0</td>\n",
              "      <td>0.0</td>\n",
              "    </tr>\n",
              "  </tbody>\n",
              "</table>\n",
              "</div>"
            ],
            "text/plain": [
              "   X11  X14  X16  X19  X34\n",
              "0  NaN  NaN  NaN  NaN  NaN\n",
              "1  0.0  0.0  0.0  0.0  0.0\n",
              "2  0.0  0.0  0.0  0.0  0.0\n",
              "3  0.0  0.0  0.0  0.0  0.0\n",
              "4  0.0  0.0  0.0  0.0  0.0"
            ]
          },
          "metadata": {
            "tags": []
          },
          "execution_count": 6
        }
      ]
    },
    {
      "cell_type": "code",
      "metadata": {
        "id": "YC2NtCB7gxf1",
        "colab_type": "code",
        "outputId": "d104ad70-ee21-403c-a900-a64aa0b74800",
        "colab": {
          "base_uri": "https://localhost:8080/",
          "height": 202
        }
      },
      "source": [
        "f_rain_each.head()"
      ],
      "execution_count": 7,
      "outputs": [
        {
          "output_type": "execute_result",
          "data": {
            "text/html": [
              "<div>\n",
              "<style scoped>\n",
              "    .dataframe tbody tr th:only-of-type {\n",
              "        vertical-align: middle;\n",
              "    }\n",
              "\n",
              "    .dataframe tbody tr th {\n",
              "        vertical-align: top;\n",
              "    }\n",
              "\n",
              "    .dataframe thead th {\n",
              "        text-align: right;\n",
              "    }\n",
              "</style>\n",
              "<table border=\"1\" class=\"dataframe\">\n",
              "  <thead>\n",
              "    <tr style=\"text-align: right;\">\n",
              "      <th></th>\n",
              "      <th>X04</th>\n",
              "      <th>X10</th>\n",
              "      <th>X21</th>\n",
              "      <th>X36</th>\n",
              "      <th>X39</th>\n",
              "    </tr>\n",
              "  </thead>\n",
              "  <tbody>\n",
              "    <tr>\n",
              "      <th>0</th>\n",
              "      <td>NaN</td>\n",
              "      <td>NaN</td>\n",
              "      <td>NaN</td>\n",
              "      <td>NaN</td>\n",
              "      <td>NaN</td>\n",
              "    </tr>\n",
              "    <tr>\n",
              "      <th>1</th>\n",
              "      <td>0.0</td>\n",
              "      <td>0.0</td>\n",
              "      <td>0.0</td>\n",
              "      <td>0.0</td>\n",
              "      <td>0.0</td>\n",
              "    </tr>\n",
              "    <tr>\n",
              "      <th>2</th>\n",
              "      <td>0.0</td>\n",
              "      <td>0.0</td>\n",
              "      <td>0.0</td>\n",
              "      <td>0.0</td>\n",
              "      <td>0.0</td>\n",
              "    </tr>\n",
              "    <tr>\n",
              "      <th>3</th>\n",
              "      <td>0.0</td>\n",
              "      <td>0.0</td>\n",
              "      <td>0.0</td>\n",
              "      <td>0.0</td>\n",
              "      <td>0.0</td>\n",
              "    </tr>\n",
              "    <tr>\n",
              "      <th>4</th>\n",
              "      <td>0.0</td>\n",
              "      <td>0.0</td>\n",
              "      <td>0.0</td>\n",
              "      <td>0.0</td>\n",
              "      <td>0.0</td>\n",
              "    </tr>\n",
              "  </tbody>\n",
              "</table>\n",
              "</div>"
            ],
            "text/plain": [
              "   X04  X10  X21  X36  X39\n",
              "0  NaN  NaN  NaN  NaN  NaN\n",
              "1  0.0  0.0  0.0  0.0  0.0\n",
              "2  0.0  0.0  0.0  0.0  0.0\n",
              "3  0.0  0.0  0.0  0.0  0.0\n",
              "4  0.0  0.0  0.0  0.0  0.0"
            ]
          },
          "metadata": {
            "tags": []
          },
          "execution_count": 7
        }
      ]
    },
    {
      "cell_type": "code",
      "metadata": {
        "id": "msa5XsZDgy2o",
        "colab_type": "code",
        "colab": {}
      },
      "source": [
        "#nan값 처리 \n",
        "f_solar_each[np.isnan(f_solar_each)] = 0\n",
        "f_rain_each[np.isnan(f_rain_each)] = 0"
      ],
      "execution_count": 0,
      "outputs": []
    },
    {
      "cell_type": "markdown",
      "metadata": {
        "id": "spvLdgKMAVTn",
        "colab_type": "text"
      },
      "source": [
        "```python\n",
        "#동일한 feature에 해당하는 col은 평균으로 처리 \n",
        "train['temp'] = (train['X00']+train['X07']+train['X28']+train['X31']+train['X32'])/5  #기온\n",
        "train['atmos'] = (train['X01']+train['X06']+train['X22']+train['X27']+train['X29'])/5 #현지기압\n",
        "train['wind'] = (train['X02']+train['X03']+train['X18']+train['X24']+train['X26'])/5  #풍속\n",
        "train['rain'] = (f_rain_each['X04']+f_rain_each['X10']+f_rain_each['X21']+f_rain_each['X36']+f_rain_each['X39'])/5  #일일누적강수량\n",
        "train['sea'] = (train['X05']+train['X08']+train['X09']+train['X23']+train['X33'])/5   #해면기압\n",
        "train['solar'] = (f_solar_each['X11']+f_solar_each['X24']+f_solar_each['X16']+f_solar_each['X19']+f_solar_each['X34'])/5 #일일누적일사량\n",
        "train['hum'] = (train['X12']+train['X20']+train['X30']+train['X37']+train['X38'])/5   #습도\n",
        "train['dir'] = (train['X13']+train['X15']+train['X17']+train['X25']+train['X35'])/5   #풍향\n",
        "train.head(3) #8개\n",
        "```"
      ]
    },
    {
      "cell_type": "code",
      "metadata": {
        "id": "GGwd0_1Sg0mV",
        "colab_type": "code",
        "colab": {}
      },
      "source": [
        "#전체 train 가져가는 경우 \n",
        "train_all=pd.concat([f_solar_each,f_rain_each,f_temp, f_atmos, f_wind, f_sea, f_hum, f_dir],axis=1)"
      ],
      "execution_count": 0,
      "outputs": []
    },
    {
      "cell_type": "code",
      "metadata": {
        "id": "_ZIf1Ap1hjSw",
        "colab_type": "code",
        "outputId": "d95c6cdb-68f2-4ff3-e5a7-25e7848aef10",
        "colab": {
          "base_uri": "https://localhost:8080/",
          "height": 375
        }
      },
      "source": [
        "train_all.head(10) #40개 "
      ],
      "execution_count": 10,
      "outputs": [
        {
          "output_type": "execute_result",
          "data": {
            "text/html": [
              "<div>\n",
              "<style scoped>\n",
              "    .dataframe tbody tr th:only-of-type {\n",
              "        vertical-align: middle;\n",
              "    }\n",
              "\n",
              "    .dataframe tbody tr th {\n",
              "        vertical-align: top;\n",
              "    }\n",
              "\n",
              "    .dataframe thead th {\n",
              "        text-align: right;\n",
              "    }\n",
              "</style>\n",
              "<table border=\"1\" class=\"dataframe\">\n",
              "  <thead>\n",
              "    <tr style=\"text-align: right;\">\n",
              "      <th></th>\n",
              "      <th>X11</th>\n",
              "      <th>X14</th>\n",
              "      <th>X16</th>\n",
              "      <th>X19</th>\n",
              "      <th>X34</th>\n",
              "      <th>X04</th>\n",
              "      <th>X10</th>\n",
              "      <th>X21</th>\n",
              "      <th>X36</th>\n",
              "      <th>X39</th>\n",
              "      <th>X00</th>\n",
              "      <th>X07</th>\n",
              "      <th>X28</th>\n",
              "      <th>X31</th>\n",
              "      <th>X32</th>\n",
              "      <th>X01</th>\n",
              "      <th>X06</th>\n",
              "      <th>X22</th>\n",
              "      <th>X27</th>\n",
              "      <th>X29</th>\n",
              "      <th>X02</th>\n",
              "      <th>X03</th>\n",
              "      <th>X18</th>\n",
              "      <th>X24</th>\n",
              "      <th>X26</th>\n",
              "      <th>X05</th>\n",
              "      <th>X08</th>\n",
              "      <th>X09</th>\n",
              "      <th>X23</th>\n",
              "      <th>X33</th>\n",
              "      <th>X12</th>\n",
              "      <th>X20</th>\n",
              "      <th>X30</th>\n",
              "      <th>X37</th>\n",
              "      <th>X38</th>\n",
              "      <th>X13</th>\n",
              "      <th>X15</th>\n",
              "      <th>X17</th>\n",
              "      <th>X25</th>\n",
              "      <th>X35</th>\n",
              "    </tr>\n",
              "  </thead>\n",
              "  <tbody>\n",
              "    <tr>\n",
              "      <th>0</th>\n",
              "      <td>0.0</td>\n",
              "      <td>0.0</td>\n",
              "      <td>0.0</td>\n",
              "      <td>0.0</td>\n",
              "      <td>0.0</td>\n",
              "      <td>0.0</td>\n",
              "      <td>0.0</td>\n",
              "      <td>0.0</td>\n",
              "      <td>0.0</td>\n",
              "      <td>0.0</td>\n",
              "      <td>9.7</td>\n",
              "      <td>12.2</td>\n",
              "      <td>12.3</td>\n",
              "      <td>8.2</td>\n",
              "      <td>10.7</td>\n",
              "      <td>988.8</td>\n",
              "      <td>989.6</td>\n",
              "      <td>1002.5</td>\n",
              "      <td>1008.7</td>\n",
              "      <td>1001.6</td>\n",
              "      <td>1.2</td>\n",
              "      <td>0.6</td>\n",
              "      <td>0.3</td>\n",
              "      <td>1.1</td>\n",
              "      <td>0.5</td>\n",
              "      <td>1009.3</td>\n",
              "      <td>1009.9</td>\n",
              "      <td>1009.8</td>\n",
              "      <td>1009.8</td>\n",
              "      <td>1010.1</td>\n",
              "      <td>82.4</td>\n",
              "      <td>91.0</td>\n",
              "      <td>69.1</td>\n",
              "      <td>77.2</td>\n",
              "      <td>62.6</td>\n",
              "      <td>71.3</td>\n",
              "      <td>101.1</td>\n",
              "      <td>56.1</td>\n",
              "      <td>2.3</td>\n",
              "      <td>256.4</td>\n",
              "    </tr>\n",
              "    <tr>\n",
              "      <th>1</th>\n",
              "      <td>0.0</td>\n",
              "      <td>0.0</td>\n",
              "      <td>0.0</td>\n",
              "      <td>0.0</td>\n",
              "      <td>0.0</td>\n",
              "      <td>0.0</td>\n",
              "      <td>0.0</td>\n",
              "      <td>0.0</td>\n",
              "      <td>0.0</td>\n",
              "      <td>0.0</td>\n",
              "      <td>9.3</td>\n",
              "      <td>12.1</td>\n",
              "      <td>12.1</td>\n",
              "      <td>8.3</td>\n",
              "      <td>10.3</td>\n",
              "      <td>988.9</td>\n",
              "      <td>989.6</td>\n",
              "      <td>1002.5</td>\n",
              "      <td>1008.7</td>\n",
              "      <td>1001.7</td>\n",
              "      <td>1.7</td>\n",
              "      <td>1.9</td>\n",
              "      <td>0.4</td>\n",
              "      <td>0.0</td>\n",
              "      <td>0.0</td>\n",
              "      <td>1009.3</td>\n",
              "      <td>1010.0</td>\n",
              "      <td>1009.9</td>\n",
              "      <td>1009.9</td>\n",
              "      <td>1010.1</td>\n",
              "      <td>81.2</td>\n",
              "      <td>91.9</td>\n",
              "      <td>70.3</td>\n",
              "      <td>77.3</td>\n",
              "      <td>63.5</td>\n",
              "      <td>121.8</td>\n",
              "      <td>165.3</td>\n",
              "      <td>0.0</td>\n",
              "      <td>0.0</td>\n",
              "      <td>215.4</td>\n",
              "    </tr>\n",
              "    <tr>\n",
              "      <th>2</th>\n",
              "      <td>0.0</td>\n",
              "      <td>0.0</td>\n",
              "      <td>0.0</td>\n",
              "      <td>0.0</td>\n",
              "      <td>0.0</td>\n",
              "      <td>0.0</td>\n",
              "      <td>0.0</td>\n",
              "      <td>0.0</td>\n",
              "      <td>0.0</td>\n",
              "      <td>0.0</td>\n",
              "      <td>9.4</td>\n",
              "      <td>12.1</td>\n",
              "      <td>12.1</td>\n",
              "      <td>8.0</td>\n",
              "      <td>9.7</td>\n",
              "      <td>989.0</td>\n",
              "      <td>989.7</td>\n",
              "      <td>1002.4</td>\n",
              "      <td>1008.6</td>\n",
              "      <td>1001.6</td>\n",
              "      <td>1.1</td>\n",
              "      <td>2.3</td>\n",
              "      <td>0.6</td>\n",
              "      <td>0.0</td>\n",
              "      <td>0.0</td>\n",
              "      <td>1009.2</td>\n",
              "      <td>1010.1</td>\n",
              "      <td>1010.1</td>\n",
              "      <td>1009.8</td>\n",
              "      <td>1010.0</td>\n",
              "      <td>86.1</td>\n",
              "      <td>93.3</td>\n",
              "      <td>71.5</td>\n",
              "      <td>77.3</td>\n",
              "      <td>63.9</td>\n",
              "      <td>232.0</td>\n",
              "      <td>144.0</td>\n",
              "      <td>0.0</td>\n",
              "      <td>0.0</td>\n",
              "      <td>235.2</td>\n",
              "    </tr>\n",
              "    <tr>\n",
              "      <th>3</th>\n",
              "      <td>0.0</td>\n",
              "      <td>0.0</td>\n",
              "      <td>0.0</td>\n",
              "      <td>0.0</td>\n",
              "      <td>0.0</td>\n",
              "      <td>0.0</td>\n",
              "      <td>0.0</td>\n",
              "      <td>0.0</td>\n",
              "      <td>0.0</td>\n",
              "      <td>0.0</td>\n",
              "      <td>9.4</td>\n",
              "      <td>12.0</td>\n",
              "      <td>12.1</td>\n",
              "      <td>7.7</td>\n",
              "      <td>9.4</td>\n",
              "      <td>988.9</td>\n",
              "      <td>989.6</td>\n",
              "      <td>1002.4</td>\n",
              "      <td>1008.7</td>\n",
              "      <td>1001.5</td>\n",
              "      <td>1.5</td>\n",
              "      <td>0.7</td>\n",
              "      <td>0.1</td>\n",
              "      <td>0.0</td>\n",
              "      <td>0.2</td>\n",
              "      <td>1009.2</td>\n",
              "      <td>1010.0</td>\n",
              "      <td>1010.0</td>\n",
              "      <td>1009.7</td>\n",
              "      <td>1010.1</td>\n",
              "      <td>87.7</td>\n",
              "      <td>93.4</td>\n",
              "      <td>73.2</td>\n",
              "      <td>77.5</td>\n",
              "      <td>64.5</td>\n",
              "      <td>0.0</td>\n",
              "      <td>115.9</td>\n",
              "      <td>294.1</td>\n",
              "      <td>0.0</td>\n",
              "      <td>214.0</td>\n",
              "    </tr>\n",
              "    <tr>\n",
              "      <th>4</th>\n",
              "      <td>0.0</td>\n",
              "      <td>0.0</td>\n",
              "      <td>0.0</td>\n",
              "      <td>0.0</td>\n",
              "      <td>0.0</td>\n",
              "      <td>0.0</td>\n",
              "      <td>0.0</td>\n",
              "      <td>0.0</td>\n",
              "      <td>0.0</td>\n",
              "      <td>0.0</td>\n",
              "      <td>9.2</td>\n",
              "      <td>12.0</td>\n",
              "      <td>12.0</td>\n",
              "      <td>7.4</td>\n",
              "      <td>9.4</td>\n",
              "      <td>988.9</td>\n",
              "      <td>989.7</td>\n",
              "      <td>1002.4</td>\n",
              "      <td>1008.7</td>\n",
              "      <td>1001.5</td>\n",
              "      <td>0.8</td>\n",
              "      <td>1.7</td>\n",
              "      <td>0.0</td>\n",
              "      <td>0.0</td>\n",
              "      <td>0.0</td>\n",
              "      <td>1009.2</td>\n",
              "      <td>1010.1</td>\n",
              "      <td>1010.0</td>\n",
              "      <td>1009.7</td>\n",
              "      <td>1010.1</td>\n",
              "      <td>88.9</td>\n",
              "      <td>94.1</td>\n",
              "      <td>74.3</td>\n",
              "      <td>78.0</td>\n",
              "      <td>65.0</td>\n",
              "      <td>0.0</td>\n",
              "      <td>124.7</td>\n",
              "      <td>0.0</td>\n",
              "      <td>0.0</td>\n",
              "      <td>174.9</td>\n",
              "    </tr>\n",
              "    <tr>\n",
              "      <th>5</th>\n",
              "      <td>0.0</td>\n",
              "      <td>0.0</td>\n",
              "      <td>0.0</td>\n",
              "      <td>0.0</td>\n",
              "      <td>0.0</td>\n",
              "      <td>0.0</td>\n",
              "      <td>0.0</td>\n",
              "      <td>0.0</td>\n",
              "      <td>0.0</td>\n",
              "      <td>0.0</td>\n",
              "      <td>9.1</td>\n",
              "      <td>12.0</td>\n",
              "      <td>12.0</td>\n",
              "      <td>7.3</td>\n",
              "      <td>9.1</td>\n",
              "      <td>988.9</td>\n",
              "      <td>989.6</td>\n",
              "      <td>1002.3</td>\n",
              "      <td>1008.7</td>\n",
              "      <td>1001.5</td>\n",
              "      <td>1.3</td>\n",
              "      <td>0.7</td>\n",
              "      <td>0.2</td>\n",
              "      <td>0.0</td>\n",
              "      <td>0.0</td>\n",
              "      <td>1009.1</td>\n",
              "      <td>1010.0</td>\n",
              "      <td>1010.0</td>\n",
              "      <td>1009.7</td>\n",
              "      <td>1010.1</td>\n",
              "      <td>90.7</td>\n",
              "      <td>94.6</td>\n",
              "      <td>75.7</td>\n",
              "      <td>78.7</td>\n",
              "      <td>65.1</td>\n",
              "      <td>222.0</td>\n",
              "      <td>174.2</td>\n",
              "      <td>0.0</td>\n",
              "      <td>0.0</td>\n",
              "      <td>243.1</td>\n",
              "    </tr>\n",
              "    <tr>\n",
              "      <th>6</th>\n",
              "      <td>0.0</td>\n",
              "      <td>0.0</td>\n",
              "      <td>0.0</td>\n",
              "      <td>0.0</td>\n",
              "      <td>0.0</td>\n",
              "      <td>0.0</td>\n",
              "      <td>0.0</td>\n",
              "      <td>0.0</td>\n",
              "      <td>0.0</td>\n",
              "      <td>0.0</td>\n",
              "      <td>9.1</td>\n",
              "      <td>12.0</td>\n",
              "      <td>11.8</td>\n",
              "      <td>7.1</td>\n",
              "      <td>8.6</td>\n",
              "      <td>988.8</td>\n",
              "      <td>989.6</td>\n",
              "      <td>1002.3</td>\n",
              "      <td>1008.7</td>\n",
              "      <td>1001.4</td>\n",
              "      <td>2.4</td>\n",
              "      <td>1.9</td>\n",
              "      <td>0.3</td>\n",
              "      <td>0.0</td>\n",
              "      <td>0.0</td>\n",
              "      <td>1009.1</td>\n",
              "      <td>1010.1</td>\n",
              "      <td>1010.0</td>\n",
              "      <td>1009.6</td>\n",
              "      <td>1010.1</td>\n",
              "      <td>90.2</td>\n",
              "      <td>94.9</td>\n",
              "      <td>79.0</td>\n",
              "      <td>78.6</td>\n",
              "      <td>65.5</td>\n",
              "      <td>257.8</td>\n",
              "      <td>168.9</td>\n",
              "      <td>0.0</td>\n",
              "      <td>0.0</td>\n",
              "      <td>195.8</td>\n",
              "    </tr>\n",
              "    <tr>\n",
              "      <th>7</th>\n",
              "      <td>0.0</td>\n",
              "      <td>0.0</td>\n",
              "      <td>0.0</td>\n",
              "      <td>0.0</td>\n",
              "      <td>0.0</td>\n",
              "      <td>0.0</td>\n",
              "      <td>0.0</td>\n",
              "      <td>0.0</td>\n",
              "      <td>0.0</td>\n",
              "      <td>0.0</td>\n",
              "      <td>8.9</td>\n",
              "      <td>11.9</td>\n",
              "      <td>11.8</td>\n",
              "      <td>7.1</td>\n",
              "      <td>8.8</td>\n",
              "      <td>988.9</td>\n",
              "      <td>989.7</td>\n",
              "      <td>1002.4</td>\n",
              "      <td>1008.7</td>\n",
              "      <td>1001.5</td>\n",
              "      <td>1.0</td>\n",
              "      <td>1.2</td>\n",
              "      <td>0.4</td>\n",
              "      <td>0.0</td>\n",
              "      <td>0.0</td>\n",
              "      <td>1009.2</td>\n",
              "      <td>1010.1</td>\n",
              "      <td>1010.1</td>\n",
              "      <td>1009.7</td>\n",
              "      <td>1010.1</td>\n",
              "      <td>91.9</td>\n",
              "      <td>95.0</td>\n",
              "      <td>78.2</td>\n",
              "      <td>78.6</td>\n",
              "      <td>65.7</td>\n",
              "      <td>226.4</td>\n",
              "      <td>112.8</td>\n",
              "      <td>0.0</td>\n",
              "      <td>0.0</td>\n",
              "      <td>262.7</td>\n",
              "    </tr>\n",
              "    <tr>\n",
              "      <th>8</th>\n",
              "      <td>0.0</td>\n",
              "      <td>0.0</td>\n",
              "      <td>0.0</td>\n",
              "      <td>0.0</td>\n",
              "      <td>0.0</td>\n",
              "      <td>0.0</td>\n",
              "      <td>0.0</td>\n",
              "      <td>0.0</td>\n",
              "      <td>0.0</td>\n",
              "      <td>0.0</td>\n",
              "      <td>9.0</td>\n",
              "      <td>11.9</td>\n",
              "      <td>11.6</td>\n",
              "      <td>7.0</td>\n",
              "      <td>8.8</td>\n",
              "      <td>988.9</td>\n",
              "      <td>989.6</td>\n",
              "      <td>1002.4</td>\n",
              "      <td>1008.7</td>\n",
              "      <td>1001.5</td>\n",
              "      <td>1.5</td>\n",
              "      <td>0.1</td>\n",
              "      <td>0.6</td>\n",
              "      <td>0.0</td>\n",
              "      <td>0.0</td>\n",
              "      <td>1009.2</td>\n",
              "      <td>1010.0</td>\n",
              "      <td>1010.1</td>\n",
              "      <td>1009.7</td>\n",
              "      <td>1010.1</td>\n",
              "      <td>92.2</td>\n",
              "      <td>95.5</td>\n",
              "      <td>77.5</td>\n",
              "      <td>78.8</td>\n",
              "      <td>66.5</td>\n",
              "      <td>215.0</td>\n",
              "      <td>157.4</td>\n",
              "      <td>0.0</td>\n",
              "      <td>0.0</td>\n",
              "      <td>236.1</td>\n",
              "    </tr>\n",
              "    <tr>\n",
              "      <th>9</th>\n",
              "      <td>0.0</td>\n",
              "      <td>0.0</td>\n",
              "      <td>0.0</td>\n",
              "      <td>0.0</td>\n",
              "      <td>0.0</td>\n",
              "      <td>0.0</td>\n",
              "      <td>0.0</td>\n",
              "      <td>0.0</td>\n",
              "      <td>0.0</td>\n",
              "      <td>0.0</td>\n",
              "      <td>8.8</td>\n",
              "      <td>11.8</td>\n",
              "      <td>11.5</td>\n",
              "      <td>7.1</td>\n",
              "      <td>8.5</td>\n",
              "      <td>988.9</td>\n",
              "      <td>989.6</td>\n",
              "      <td>1002.5</td>\n",
              "      <td>1008.6</td>\n",
              "      <td>1001.5</td>\n",
              "      <td>1.4</td>\n",
              "      <td>0.4</td>\n",
              "      <td>0.6</td>\n",
              "      <td>0.0</td>\n",
              "      <td>0.0</td>\n",
              "      <td>1009.4</td>\n",
              "      <td>1010.1</td>\n",
              "      <td>1010.1</td>\n",
              "      <td>1009.7</td>\n",
              "      <td>1010.0</td>\n",
              "      <td>92.7</td>\n",
              "      <td>95.6</td>\n",
              "      <td>79.3</td>\n",
              "      <td>78.8</td>\n",
              "      <td>67.6</td>\n",
              "      <td>214.4</td>\n",
              "      <td>134.0</td>\n",
              "      <td>0.0</td>\n",
              "      <td>0.0</td>\n",
              "      <td>230.9</td>\n",
              "    </tr>\n",
              "  </tbody>\n",
              "</table>\n",
              "</div>"
            ],
            "text/plain": [
              "   X11  X14  X16  X19  X34  X04  ...   X38    X13    X15    X17  X25    X35\n",
              "0  0.0  0.0  0.0  0.0  0.0  0.0  ...  62.6   71.3  101.1   56.1  2.3  256.4\n",
              "1  0.0  0.0  0.0  0.0  0.0  0.0  ...  63.5  121.8  165.3    0.0  0.0  215.4\n",
              "2  0.0  0.0  0.0  0.0  0.0  0.0  ...  63.9  232.0  144.0    0.0  0.0  235.2\n",
              "3  0.0  0.0  0.0  0.0  0.0  0.0  ...  64.5    0.0  115.9  294.1  0.0  214.0\n",
              "4  0.0  0.0  0.0  0.0  0.0  0.0  ...  65.0    0.0  124.7    0.0  0.0  174.9\n",
              "5  0.0  0.0  0.0  0.0  0.0  0.0  ...  65.1  222.0  174.2    0.0  0.0  243.1\n",
              "6  0.0  0.0  0.0  0.0  0.0  0.0  ...  65.5  257.8  168.9    0.0  0.0  195.8\n",
              "7  0.0  0.0  0.0  0.0  0.0  0.0  ...  65.7  226.4  112.8    0.0  0.0  262.7\n",
              "8  0.0  0.0  0.0  0.0  0.0  0.0  ...  66.5  215.0  157.4    0.0  0.0  236.1\n",
              "9  0.0  0.0  0.0  0.0  0.0  0.0  ...  67.6  214.4  134.0    0.0  0.0  230.9\n",
              "\n",
              "[10 rows x 40 columns]"
            ]
          },
          "metadata": {
            "tags": []
          },
          "execution_count": 10
        }
      ]
    },
    {
      "cell_type": "code",
      "metadata": {
        "id": "gfNpukDkhqRH",
        "colab_type": "code",
        "colab": {}
      },
      "source": [
        "#30일 데이터로 먼저 학습 \n",
        "X_train = train_all[:4320]\n",
        "y_train = train[['Y00','Y01','Y02','Y03','Y04','Y05','Y06','Y07','Y08','Y09','Y10','Y11','Y12','Y13','Y14','Y15','Y16','Y17']][:4320]"
      ],
      "execution_count": 0,
      "outputs": []
    },
    {
      "cell_type": "code",
      "metadata": {
        "id": "qzQE0dwZirDz",
        "colab_type": "code",
        "outputId": "eba93181-83eb-4572-b671-119f96c9fc3d",
        "colab": {
          "base_uri": "https://localhost:8080/",
          "height": 202
        }
      },
      "source": [
        "y_train.head()"
      ],
      "execution_count": 15,
      "outputs": [
        {
          "output_type": "execute_result",
          "data": {
            "text/html": [
              "<div>\n",
              "<style scoped>\n",
              "    .dataframe tbody tr th:only-of-type {\n",
              "        vertical-align: middle;\n",
              "    }\n",
              "\n",
              "    .dataframe tbody tr th {\n",
              "        vertical-align: top;\n",
              "    }\n",
              "\n",
              "    .dataframe thead th {\n",
              "        text-align: right;\n",
              "    }\n",
              "</style>\n",
              "<table border=\"1\" class=\"dataframe\">\n",
              "  <thead>\n",
              "    <tr style=\"text-align: right;\">\n",
              "      <th></th>\n",
              "      <th>Y00</th>\n",
              "      <th>Y01</th>\n",
              "      <th>Y02</th>\n",
              "      <th>Y03</th>\n",
              "      <th>Y04</th>\n",
              "      <th>Y05</th>\n",
              "      <th>Y06</th>\n",
              "      <th>Y07</th>\n",
              "      <th>Y08</th>\n",
              "      <th>Y09</th>\n",
              "      <th>Y10</th>\n",
              "      <th>Y11</th>\n",
              "      <th>Y12</th>\n",
              "      <th>Y13</th>\n",
              "      <th>Y14</th>\n",
              "      <th>Y15</th>\n",
              "      <th>Y16</th>\n",
              "      <th>Y17</th>\n",
              "    </tr>\n",
              "  </thead>\n",
              "  <tbody>\n",
              "    <tr>\n",
              "      <th>0</th>\n",
              "      <td>12.5</td>\n",
              "      <td>11.5</td>\n",
              "      <td>11.0</td>\n",
              "      <td>20.0</td>\n",
              "      <td>20.0</td>\n",
              "      <td>10.5</td>\n",
              "      <td>10.0</td>\n",
              "      <td>10.5</td>\n",
              "      <td>10.0</td>\n",
              "      <td>7.0</td>\n",
              "      <td>7.5</td>\n",
              "      <td>7.0</td>\n",
              "      <td>9.0</td>\n",
              "      <td>10.0</td>\n",
              "      <td>9.5</td>\n",
              "      <td>9.0</td>\n",
              "      <td>8.0</td>\n",
              "      <td>9.0</td>\n",
              "    </tr>\n",
              "    <tr>\n",
              "      <th>1</th>\n",
              "      <td>12.5</td>\n",
              "      <td>11.0</td>\n",
              "      <td>11.0</td>\n",
              "      <td>20.0</td>\n",
              "      <td>20.0</td>\n",
              "      <td>10.0</td>\n",
              "      <td>9.5</td>\n",
              "      <td>10.0</td>\n",
              "      <td>9.5</td>\n",
              "      <td>6.5</td>\n",
              "      <td>7.5</td>\n",
              "      <td>7.0</td>\n",
              "      <td>8.5</td>\n",
              "      <td>10.0</td>\n",
              "      <td>9.5</td>\n",
              "      <td>9.0</td>\n",
              "      <td>7.5</td>\n",
              "      <td>9.0</td>\n",
              "    </tr>\n",
              "    <tr>\n",
              "      <th>2</th>\n",
              "      <td>12.0</td>\n",
              "      <td>11.0</td>\n",
              "      <td>11.0</td>\n",
              "      <td>19.5</td>\n",
              "      <td>19.5</td>\n",
              "      <td>10.0</td>\n",
              "      <td>9.0</td>\n",
              "      <td>10.0</td>\n",
              "      <td>9.0</td>\n",
              "      <td>6.5</td>\n",
              "      <td>7.5</td>\n",
              "      <td>6.5</td>\n",
              "      <td>8.0</td>\n",
              "      <td>9.5</td>\n",
              "      <td>9.5</td>\n",
              "      <td>8.5</td>\n",
              "      <td>7.5</td>\n",
              "      <td>8.5</td>\n",
              "    </tr>\n",
              "    <tr>\n",
              "      <th>3</th>\n",
              "      <td>12.0</td>\n",
              "      <td>11.0</td>\n",
              "      <td>11.0</td>\n",
              "      <td>19.5</td>\n",
              "      <td>19.5</td>\n",
              "      <td>9.5</td>\n",
              "      <td>9.0</td>\n",
              "      <td>9.5</td>\n",
              "      <td>9.0</td>\n",
              "      <td>6.0</td>\n",
              "      <td>7.0</td>\n",
              "      <td>6.0</td>\n",
              "      <td>8.0</td>\n",
              "      <td>9.5</td>\n",
              "      <td>9.0</td>\n",
              "      <td>8.5</td>\n",
              "      <td>7.5</td>\n",
              "      <td>8.5</td>\n",
              "    </tr>\n",
              "    <tr>\n",
              "      <th>4</th>\n",
              "      <td>12.0</td>\n",
              "      <td>10.5</td>\n",
              "      <td>10.5</td>\n",
              "      <td>19.0</td>\n",
              "      <td>19.5</td>\n",
              "      <td>9.5</td>\n",
              "      <td>8.5</td>\n",
              "      <td>9.5</td>\n",
              "      <td>8.5</td>\n",
              "      <td>6.0</td>\n",
              "      <td>7.0</td>\n",
              "      <td>6.0</td>\n",
              "      <td>7.5</td>\n",
              "      <td>9.5</td>\n",
              "      <td>9.0</td>\n",
              "      <td>8.5</td>\n",
              "      <td>7.5</td>\n",
              "      <td>8.5</td>\n",
              "    </tr>\n",
              "  </tbody>\n",
              "</table>\n",
              "</div>"
            ],
            "text/plain": [
              "    Y00   Y01   Y02   Y03   Y04   Y05   Y06  ...  Y11  Y12   Y13  Y14  Y15  Y16  Y17\n",
              "0  12.5  11.5  11.0  20.0  20.0  10.5  10.0  ...  7.0  9.0  10.0  9.5  9.0  8.0  9.0\n",
              "1  12.5  11.0  11.0  20.0  20.0  10.0   9.5  ...  7.0  8.5  10.0  9.5  9.0  7.5  9.0\n",
              "2  12.0  11.0  11.0  19.5  19.5  10.0   9.0  ...  6.5  8.0   9.5  9.5  8.5  7.5  8.5\n",
              "3  12.0  11.0  11.0  19.5  19.5   9.5   9.0  ...  6.0  8.0   9.5  9.0  8.5  7.5  8.5\n",
              "4  12.0  10.5  10.5  19.0  19.5   9.5   8.5  ...  6.0  7.5   9.5  9.0  8.5  7.5  8.5\n",
              "\n",
              "[5 rows x 18 columns]"
            ]
          },
          "metadata": {
            "tags": []
          },
          "execution_count": 15
        }
      ]
    },
    {
      "cell_type": "code",
      "metadata": {
        "id": "ixt1WbJIDarp",
        "colab_type": "code",
        "colab": {
          "base_uri": "https://localhost:8080/",
          "height": 265
        },
        "outputId": "f91d9263-0cb2-4377-e5d3-75499ed52880"
      },
      "source": [
        "#target\n",
        "import matplotlib.pyplot as plt\n",
        "plt.plot(train['Y18'][4321:])\n",
        "plt.show()"
      ],
      "execution_count": 16,
      "outputs": [
        {
          "output_type": "display_data",
          "data": {
            "image/png": "[encoded data removed]",
            "text/plain": [
              "<Figure size 432x288 with 1 Axes>"
            ]
          },
          "metadata": {
            "tags": []
          }
        }
      ]
    },
    {
      "cell_type": "code",
      "metadata": {
        "id": "wDOvqn-QEO9H",
        "colab_type": "code",
        "colab": {
          "base_uri": "https://localhost:8080/",
          "height": 265
        },
        "outputId": "02dc0f3c-8173-4406-ba22-000fd441c92d"
      },
      "source": [
        "plt.plot(y_train)\n",
        "plt.show()"
      ],
      "execution_count": 17,
      "outputs": [
        {
          "output_type": "display_data",
          "data": {
            "image/png": "[encoded data removed]",
            "text/plain": [
              "<Figure size 432x288 with 1 Axes>"
            ]
          },
          "metadata": {
            "tags": []
          }
        }
      ]
    },
    {
      "cell_type": "markdown",
      "metadata": {
        "id": "1MudcAzTAcPG",
        "colab_type": "text"
      },
      "source": [
        "## 시계열 데이터 딥러닝 모델참고 예제 <br>\n",
        "- 나스닥100 주식 예측 : https://m.blog.naver.com/silvury/220939233742\n",
        "- stacked LSTM : https://machinelearningmastery.com/stacked-long-short-term-memory-networks/\n",
        "- keras 참고 : https://www.codeonweb.com/entry/fe7882d2-e42a-4ef3-bbc2-e616d366e013\n",
        "- 주택가격 예측 딥러닝 모델 : https://www.codeonweb.com/entry/fe7882d2-e42a-4ef3-bbc2-e616d366e013\n",
        "- 시계열 예측에서의 LSTM : https://machinelearningmastery.com/time-series-prediction-lstm-recurrent-neural-networks-python-keras/\n",
        "\n",
        "## 30일 데이터 사용 모델\n",
        "1. DNN (mse : 18)\n",
        "2. LSTM for regressor ( mse : \n",
        "4. stack LSTM\n",
        "5. stacked LSTM with Memory based between batches\n",
        "6. GRU"
      ]
    },
    {
      "cell_type": "markdown",
      "metadata": {
        "id": "ihYElXIZi14k",
        "colab_type": "text"
      },
      "source": [
        "DNN"
      ]
    },
    {
      "cell_type": "code",
      "metadata": {
        "id": "oByfyEnpisnm",
        "colab_type": "code",
        "colab": {}
      },
      "source": [
        "import pandas as pd\n",
        "%tensorflow_version 1.x\n",
        "import tensorflow\n",
        "from sklearn.preprocessing import MinMaxScaler\n",
        "from sklearn.model_selection import train_test_split\n",
        "import keras"
      ],
      "execution_count": 0,
      "outputs": []
    },
    {
      "cell_type": "code",
      "metadata": {
        "id": "E1B_xw4ljCeA",
        "colab_type": "code",
        "colab": {}
      },
      "source": [
        "X_train = X_train.values #30일데이터\n",
        "y_train = y_train.values"
      ],
      "execution_count": 0,
      "outputs": []
    },
    {
      "cell_type": "code",
      "metadata": {
        "id": "DJICrIiUjSEO",
        "colab_type": "code",
        "colab": {}
      },
      "source": [
        "#normalize\n",
        "sc = MinMaxScaler(feature_range=(0,1))\n",
        "X_train=sc.fit_transform(X_train)\n",
        "y_test=sc.fit_transform(y_test)"
      ],
      "execution_count": 0,
      "outputs": []
    },
    {
      "cell_type": "code",
      "metadata": {
        "id": "Nq31hWV_jiwo",
        "colab_type": "code",
        "colab": {}
      },
      "source": [
        "X_train, X_test, y_train, y_test = train_test_split(X_train, y_train, test_size=0.1, random_state=1)"
      ],
      "execution_count": 0,
      "outputs": []
    },
    {
      "cell_type": "code",
      "metadata": {
        "id": "Gb9Bl7gMvKAS",
        "colab_type": "code",
        "colab": {
          "base_uri": "https://localhost:8080/",
          "height": 36
        },
        "outputId": "151ed306-ae19-4ca9-e25f-edb3f399279d"
      },
      "source": [
        "X_train.shape"
      ],
      "execution_count": 167,
      "outputs": [
        {
          "output_type": "execute_result",
          "data": {
            "text/plain": [
              "(3888, 40)"
            ]
          },
          "metadata": {
            "tags": []
          },
          "execution_count": 167
        }
      ]
    },
    {
      "cell_type": "code",
      "metadata": {
        "id": "Pnv1TOSDGf6E",
        "colab_type": "code",
        "colab": {
          "base_uri": "https://localhost:8080/",
          "height": 148
        },
        "outputId": "81445ce8-9750-4f6f-c2f3-1d5845c8c51a"
      },
      "source": [
        "y_train #확인 "
      ],
      "execution_count": 84,
      "outputs": [
        {
          "output_type": "execute_result",
          "data": {
            "text/plain": [
              "array([[22. , 24.5, 25. , ..., 26. , 29. , 28.5],\n",
              "       [29.5, 38.5, 38.5, ..., 38. , 40.5, 43. ],\n",
              "       [20. , 25. , 25. , ..., 27.5, 30. , 33. ],\n",
              "       ...,\n",
              "       [14.5, 13.5, 13.5, ..., 13. , 13. , 12.5],\n",
              "       [24. , 31.5, 31.5, ..., 32. , 31.5, 36.5],\n",
              "       [19. , 18.5, 18.5, ..., 16.5, 16. , 16. ]])"
            ]
          },
          "metadata": {
            "tags": []
          },
          "execution_count": 84
        }
      ]
    },
    {
      "cell_type": "code",
      "metadata": {
        "id": "lTtHc1bvjhIF",
        "colab_type": "code",
        "colab": {}
      },
      "source": [
        "from keras.models import Sequential\n",
        "from keras.layers import Dense, Dropout"
      ],
      "execution_count": 0,
      "outputs": []
    },
    {
      "cell_type": "code",
      "metadata": {
        "id": "L0WOEq3yjqfv",
        "colab_type": "code",
        "colab": {
          "base_uri": "https://localhost:8080/",
          "height": 243
        },
        "outputId": "2a648ee1-69c9-4c38-d0a1-aa0f8d56c4de"
      },
      "source": [
        "#초기화 \n",
        "keras.initializers.he_normal(seed=None) #randomnormal\n",
        "clf = Sequential([\n",
        "    Dense(15, kernel_initializer='uniform', input_dim=40, activation='elu'),\n",
        "    Dense(20, kernel_initializer='uniform', activation='relu'),\n",
        "    Dropout(0.25),\n",
        "    Dense(25, kernel_initializer='uniform', activation='elu'),\n",
        "    Dense(18, kernel_initializer='uniform', activation='elu'),\n",
        "])"
      ],
      "execution_count": 31,
      "outputs": [
        {
          "output_type": "stream",
          "text": [
            "WARNING:tensorflow:From /usr/local/lib/python3.6/dist-packages/keras/backend/tensorflow_backend.py:66: The name tf.get_default_graph is deprecated. Please use tf.compat.v1.get_default_graph instead.\n",
            "\n",
            "WARNING:tensorflow:From /usr/local/lib/python3.6/dist-packages/keras/backend/tensorflow_backend.py:541: The name tf.placeholder is deprecated. Please use tf.compat.v1.placeholder instead.\n",
            "\n",
            "WARNING:tensorflow:From /usr/local/lib/python3.6/dist-packages/keras/backend/tensorflow_backend.py:4432: The name tf.random_uniform is deprecated. Please use tf.random.uniform instead.\n",
            "\n",
            "WARNING:tensorflow:From /usr/local/lib/python3.6/dist-packages/keras/backend/tensorflow_backend.py:148: The name tf.placeholder_with_default is deprecated. Please use tf.compat.v1.placeholder_with_default instead.\n",
            "\n",
            "WARNING:tensorflow:From /usr/local/lib/python3.6/dist-packages/keras/backend/tensorflow_backend.py:3733: calling dropout (from tensorflow.python.ops.nn_ops) with keep_prob is deprecated and will be removed in a future version.\n",
            "Instructions for updating:\n",
            "Please use `rate` instead of `keep_prob`. Rate should be set to `rate = 1 - keep_prob`.\n"
          ],
          "name": "stdout"
        }
      ]
    },
    {
      "cell_type": "code",
      "metadata": {
        "id": "QqYt9Acvkwub",
        "colab_type": "code",
        "outputId": "4f7e7cce-319c-4136-852a-e801904e0789",
        "colab": {
          "base_uri": "https://localhost:8080/",
          "height": 353
        }
      },
      "source": [
        "clf.summary()"
      ],
      "execution_count": 32,
      "outputs": [
        {
          "output_type": "stream",
          "text": [
            "Model: \"sequential_1\"\n",
            "_________________________________________________________________\n",
            "Layer (type)                 Output Shape              Param #   \n",
            "=================================================================\n",
            "dense_1 (Dense)              (None, 15)                615       \n",
            "_________________________________________________________________\n",
            "dense_2 (Dense)              (None, 20)                320       \n",
            "_________________________________________________________________\n",
            "dropout_1 (Dropout)          (None, 20)                0         \n",
            "_________________________________________________________________\n",
            "dense_3 (Dense)              (None, 25)                525       \n",
            "_________________________________________________________________\n",
            "dense_4 (Dense)              (None, 18)                468       \n",
            "=================================================================\n",
            "Total params: 1,928\n",
            "Trainable params: 1,928\n",
            "Non-trainable params: 0\n",
            "_________________________________________________________________\n"
          ],
          "name": "stdout"
        }
      ]
    },
    {
      "cell_type": "code",
      "metadata": {
        "id": "L9NC8VHTky3u",
        "colab_type": "code",
        "colab": {
          "base_uri": "https://localhost:8080/",
          "height": 75
        },
        "outputId": "77046ae3-136c-4fb7-c2aa-c8306a70f80f"
      },
      "source": [
        "#학습\n",
        "clf.compile(optimizer='adam', loss='mean_squared_error', metrics=['accuracy'])"
      ],
      "execution_count": 33,
      "outputs": [
        {
          "output_type": "stream",
          "text": [
            "WARNING:tensorflow:From /usr/local/lib/python3.6/dist-packages/keras/optimizers.py:793: The name tf.train.Optimizer is deprecated. Please use tf.compat.v1.train.Optimizer instead.\n",
            "\n"
          ],
          "name": "stdout"
        }
      ]
    },
    {
      "cell_type": "code",
      "metadata": {
        "id": "hMIgK924lp_M",
        "colab_type": "code",
        "outputId": "5bedc0f3-dca3-4e48-f17c-aaf6db611cba",
        "colab": {
          "base_uri": "https://localhost:8080/",
          "height": 429
        }
      },
      "source": [
        "import warnings\n",
        "warnings.filterwarnings('ignore')\n",
        "clf.fit(X_train, y_train, batch_size=15, epochs=2)"
      ],
      "execution_count": 34,
      "outputs": [
        {
          "output_type": "stream",
          "text": [
            "WARNING:tensorflow:From /usr/local/lib/python3.6/dist-packages/keras/backend/tensorflow_backend.py:1033: The name tf.assign_add is deprecated. Please use tf.compat.v1.assign_add instead.\n",
            "\n",
            "WARNING:tensorflow:From /usr/local/lib/python3.6/dist-packages/keras/backend/tensorflow_backend.py:1020: The name tf.assign is deprecated. Please use tf.compat.v1.assign instead.\n",
            "\n",
            "WARNING:tensorflow:From /usr/local/lib/python3.6/dist-packages/keras/backend/tensorflow_backend.py:3005: The name tf.Session is deprecated. Please use tf.compat.v1.Session instead.\n",
            "\n",
            "Epoch 1/2\n",
            "WARNING:tensorflow:From /usr/local/lib/python3.6/dist-packages/keras/backend/tensorflow_backend.py:190: The name tf.get_default_session is deprecated. Please use tf.compat.v1.get_default_session instead.\n",
            "\n",
            "WARNING:tensorflow:From /usr/local/lib/python3.6/dist-packages/keras/backend/tensorflow_backend.py:197: The name tf.ConfigProto is deprecated. Please use tf.compat.v1.ConfigProto instead.\n",
            "\n",
            "WARNING:tensorflow:From /usr/local/lib/python3.6/dist-packages/keras/backend/tensorflow_backend.py:207: The name tf.global_variables is deprecated. Please use tf.compat.v1.global_variables instead.\n",
            "\n",
            "WARNING:tensorflow:From /usr/local/lib/python3.6/dist-packages/keras/backend/tensorflow_backend.py:216: The name tf.is_variable_initialized is deprecated. Please use tf.compat.v1.is_variable_initialized instead.\n",
            "\n",
            "WARNING:tensorflow:From /usr/local/lib/python3.6/dist-packages/keras/backend/tensorflow_backend.py:223: The name tf.variables_initializer is deprecated. Please use tf.compat.v1.variables_initializer instead.\n",
            "\n",
            "3888/3888 [==============================] - 1s 262us/step - loss: 227.9460 - acc: 0.1163\n",
            "Epoch 2/2\n",
            "3888/3888 [==============================] - 0s 89us/step - loss: 35.4127 - acc: 0.1908\n"
          ],
          "name": "stdout"
        },
        {
          "output_type": "execute_result",
          "data": {
            "text/plain": [
              "<keras.callbacks.History at 0x7f5c4a2b7160>"
            ]
          },
          "metadata": {
            "tags": []
          },
          "execution_count": 34
        }
      ]
    },
    {
      "cell_type": "code",
      "metadata": {
        "id": "P17__IJdltdU",
        "colab_type": "code",
        "outputId": "6b329e43-f956-47af-ee6b-95a62a22fb76",
        "colab": {
          "base_uri": "https://localhost:8080/",
          "height": 55
        }
      },
      "source": [
        "score = clf.evaluate(X_test, y_test, verbose=0)\n",
        "print(clf.metrics_names[0])\n",
        "print(score[0]) #mse"
      ],
      "execution_count": 35,
      "outputs": [
        {
          "output_type": "stream",
          "text": [
            "loss\n",
            "18.722411614877206\n"
          ],
          "name": "stdout"
        }
      ]
    },
    {
      "cell_type": "markdown",
      "metadata": {
        "id": "xVQ0z8MjGu9v",
        "colab_type": "text"
      },
      "source": [
        "LSTM for regression"
      ]
    },
    {
      "cell_type": "code",
      "metadata": {
        "id": "mPdnKfEiHHJr",
        "colab_type": "code",
        "colab": {}
      },
      "source": [
        "import keras\n",
        "import numpy as np\n",
        "from keras.models import Sequential\n",
        "from keras.layers import Dense, LSTM, Dropout\n",
        "from sklearn.preprocessing import MinMaxScaler\n",
        "import matplotlib.pyplot as plt\n",
        "from keras.layers import LSTM\n",
        "#import CallBack\n",
        "%matplotlib inline"
      ],
      "execution_count": 0,
      "outputs": []
    },
    {
      "cell_type": "code",
      "metadata": {
        "id": "OV5ct9HxHvtE",
        "colab_type": "code",
        "colab": {
          "base_uri": "https://localhost:8080/",
          "height": 36
        },
        "outputId": "9125558a-13d7-47a9-8f1b-c87cf7a3c560"
      },
      "source": [
        "X_train.shape"
      ],
      "execution_count": 168,
      "outputs": [
        {
          "output_type": "execute_result",
          "data": {
            "text/plain": [
              "(3888, 40)"
            ]
          },
          "metadata": {
            "tags": []
          },
          "execution_count": 168
        }
      ]
    },
    {
      "cell_type": "code",
      "metadata": {
        "id": "DY52r0lEJDFo",
        "colab_type": "code",
        "colab": {}
      },
      "source": [
        "#original : [samples, features] \n",
        "#LSTM data shape : [samples, time steps, features]\n",
        "X_train_reshape = np.reshape(X_train, (X_train.shape[0], 1, X_train.shape[1]))\n",
        "X_test_reshape = np.reshape(X_test, (X_test.shape[0], 1, X_test.shape[1]))"
      ],
      "execution_count": 0,
      "outputs": []
    },
    {
      "cell_type": "code",
      "metadata": {
        "id": "dax4LixfJrRd",
        "colab_type": "code",
        "colab": {
          "base_uri": "https://localhost:8080/",
          "height": 36
        },
        "outputId": "c66bc462-1da6-46a8-d43a-f223e61f8f04"
      },
      "source": [
        "X_train_reshape.shape"
      ],
      "execution_count": 170,
      "outputs": [
        {
          "output_type": "execute_result",
          "data": {
            "text/plain": [
              "(3888, 1, 40)"
            ]
          },
          "metadata": {
            "tags": []
          },
          "execution_count": 170
        }
      ]
    },
    {
      "cell_type": "code",
      "metadata": {
        "id": "Jo2SNJNrGuYj",
        "colab_type": "code",
        "colab": {}
      },
      "source": [
        "model = Sequential()\n",
        "model.add(LSTM(4, input_shape=(1, X_train_reshape.shape[2])))\n",
        "model.add(Dropout(0.3))\n",
        "model.add(Dense(18))"
      ],
      "execution_count": 0,
      "outputs": []
    },
    {
      "cell_type": "code",
      "metadata": {
        "id": "6kIAno1DH2Aq",
        "colab_type": "code",
        "colab": {}
      },
      "source": [
        "#학습\n",
        "model.compile(loss='mean_squared_error', optimizer='adam')"
      ],
      "execution_count": 0,
      "outputs": []
    },
    {
      "cell_type": "code",
      "metadata": {
        "id": "9zUxPdG0H_2x",
        "colab_type": "code",
        "colab": {
          "base_uri": "https://localhost:8080/",
          "height": 1000
        },
        "outputId": "7e7278d4-7d32-4e39-c586-ca464f27639c"
      },
      "source": [
        "#visible 40 inputs, hidden layer with 4 LSTM blocks and output makes 18 prediction\n",
        "model.fit(X_train_reshape, y_train, epochs=100, batch_size=1, verbose=2)"
      ],
      "execution_count": 173,
      "outputs": [
        {
          "output_type": "stream",
          "text": [
            "Epoch 1/100\n",
            " - 10s - loss: 367.1627\n",
            "Epoch 2/100\n",
            " - 8s - loss: 142.2241\n",
            "Epoch 3/100\n",
            " - 8s - loss: 94.6261\n",
            "Epoch 4/100\n",
            " - 9s - loss: 85.4876\n",
            "Epoch 5/100\n",
            " - 8s - loss: 88.3727\n",
            "Epoch 6/100\n",
            " - 8s - loss: 87.7560\n",
            "Epoch 7/100\n",
            " - 9s - loss: 85.1491\n",
            "Epoch 8/100\n",
            " - 9s - loss: 84.6243\n",
            "Epoch 9/100\n",
            " - 9s - loss: 80.9298\n",
            "Epoch 10/100\n",
            " - 9s - loss: 80.8687\n",
            "Epoch 11/100\n",
            " - 9s - loss: 79.2602\n",
            "Epoch 12/100\n",
            " - 9s - loss: 78.1720\n",
            "Epoch 13/100\n",
            " - 9s - loss: 77.9660\n",
            "Epoch 14/100\n",
            " - 9s - loss: 77.1171\n",
            "Epoch 15/100\n",
            " - 9s - loss: 76.3239\n",
            "Epoch 16/100\n",
            " - 9s - loss: 76.4479\n",
            "Epoch 17/100\n",
            " - 9s - loss: 76.3306\n",
            "Epoch 18/100\n",
            " - 9s - loss: 74.8235\n",
            "Epoch 19/100\n",
            " - 9s - loss: 73.9092\n",
            "Epoch 20/100\n",
            " - 9s - loss: 70.7064\n",
            "Epoch 21/100\n",
            " - 9s - loss: 72.4443\n",
            "Epoch 22/100\n",
            " - 9s - loss: 71.5637\n",
            "Epoch 23/100\n",
            " - 9s - loss: 71.0060\n",
            "Epoch 24/100\n",
            " - 9s - loss: 71.5811\n",
            "Epoch 25/100\n",
            " - 9s - loss: 69.2968\n",
            "Epoch 26/100\n",
            " - 9s - loss: 69.7040\n",
            "Epoch 27/100\n",
            " - 9s - loss: 69.6854\n",
            "Epoch 28/100\n",
            " - 9s - loss: 68.4110\n",
            "Epoch 29/100\n",
            " - 9s - loss: 69.2675\n",
            "Epoch 30/100\n",
            " - 9s - loss: 69.2995\n",
            "Epoch 31/100\n",
            " - 9s - loss: 67.6478\n",
            "Epoch 32/100\n",
            " - 10s - loss: 67.6113\n",
            "Epoch 33/100\n",
            " - 9s - loss: 67.8591\n",
            "Epoch 34/100\n",
            " - 9s - loss: 67.5967\n",
            "Epoch 35/100\n",
            " - 9s - loss: 67.4498\n",
            "Epoch 36/100\n",
            " - 9s - loss: 66.6479\n",
            "Epoch 37/100\n",
            " - 9s - loss: 67.6285\n",
            "Epoch 38/100\n",
            " - 9s - loss: 67.3736\n",
            "Epoch 39/100\n",
            " - 9s - loss: 65.9494\n",
            "Epoch 40/100\n",
            " - 9s - loss: 66.5061\n",
            "Epoch 41/100\n",
            " - 9s - loss: 65.8111\n",
            "Epoch 42/100\n",
            " - 10s - loss: 66.2614\n",
            "Epoch 43/100\n",
            " - 9s - loss: 65.8507\n",
            "Epoch 44/100\n",
            " - 9s - loss: 65.2665\n",
            "Epoch 45/100\n",
            " - 9s - loss: 65.5534\n",
            "Epoch 46/100\n",
            " - 9s - loss: 65.8161\n",
            "Epoch 47/100\n",
            " - 9s - loss: 65.8979\n",
            "Epoch 48/100\n",
            " - 9s - loss: 65.5455\n",
            "Epoch 49/100\n",
            " - 9s - loss: 65.1356\n",
            "Epoch 50/100\n",
            " - 9s - loss: 65.1310\n",
            "Epoch 51/100\n",
            " - 9s - loss: 65.4265\n",
            "Epoch 52/100\n",
            " - 9s - loss: 65.0707\n",
            "Epoch 53/100\n",
            " - 9s - loss: 65.1122\n",
            "Epoch 54/100\n",
            " - 9s - loss: 64.9356\n",
            "Epoch 55/100\n",
            " - 9s - loss: 64.9468\n",
            "Epoch 56/100\n",
            " - 9s - loss: 64.8153\n",
            "Epoch 57/100\n",
            " - 9s - loss: 64.7993\n",
            "Epoch 58/100\n",
            " - 9s - loss: 64.8128\n",
            "Epoch 59/100\n",
            " - 9s - loss: 64.5644\n",
            "Epoch 60/100\n",
            " - 9s - loss: 64.6857\n",
            "Epoch 61/100\n",
            " - 9s - loss: 64.5624\n",
            "Epoch 62/100\n",
            " - 9s - loss: 64.6651\n",
            "Epoch 63/100\n",
            " - 9s - loss: 64.8804\n",
            "Epoch 64/100\n",
            " - 9s - loss: 64.7354\n",
            "Epoch 65/100\n",
            " - 9s - loss: 64.4258\n",
            "Epoch 66/100\n",
            " - 9s - loss: 64.3737\n",
            "Epoch 67/100\n",
            " - 9s - loss: 64.4887\n",
            "Epoch 68/100\n",
            " - 9s - loss: 64.4212\n",
            "Epoch 69/100\n",
            " - 9s - loss: 64.3384\n",
            "Epoch 70/100\n",
            " - 9s - loss: 64.1905\n",
            "Epoch 71/100\n",
            " - 9s - loss: 64.3750\n",
            "Epoch 72/100\n",
            " - 9s - loss: 64.2236\n",
            "Epoch 73/100\n",
            " - 9s - loss: 64.3608\n",
            "Epoch 74/100\n",
            " - 9s - loss: 64.2508\n",
            "Epoch 75/100\n",
            " - 9s - loss: 64.2192\n",
            "Epoch 76/100\n",
            " - 9s - loss: 64.2325\n",
            "Epoch 77/100\n",
            " - 9s - loss: 64.2747\n",
            "Epoch 78/100\n",
            " - 9s - loss: 64.4320\n",
            "Epoch 79/100\n",
            " - 9s - loss: 64.1859\n",
            "Epoch 80/100\n",
            " - 9s - loss: 64.1178\n",
            "Epoch 81/100\n",
            " - 9s - loss: 64.2483\n",
            "Epoch 82/100\n",
            " - 9s - loss: 64.1953\n",
            "Epoch 83/100\n",
            " - 9s - loss: 64.3163\n",
            "Epoch 84/100\n",
            " - 9s - loss: 64.1173\n",
            "Epoch 85/100\n",
            " - 9s - loss: 64.2150\n",
            "Epoch 86/100\n",
            " - 9s - loss: 64.0760\n",
            "Epoch 87/100\n",
            " - 9s - loss: 64.1672\n",
            "Epoch 88/100\n",
            " - 9s - loss: 64.1637\n",
            "Epoch 89/100\n",
            " - 9s - loss: 64.1328\n",
            "Epoch 90/100\n",
            " - 9s - loss: 64.2137\n",
            "Epoch 91/100\n",
            " - 9s - loss: 64.2066\n",
            "Epoch 92/100\n",
            " - 9s - loss: 64.1389\n",
            "Epoch 93/100\n",
            " - 9s - loss: 64.0447\n",
            "Epoch 94/100\n",
            " - 9s - loss: 64.1156\n",
            "Epoch 95/100\n",
            " - 9s - loss: 64.1340\n",
            "Epoch 96/100\n",
            " - 9s - loss: 64.0343\n",
            "Epoch 97/100\n",
            " - 9s - loss: 64.1831\n",
            "Epoch 98/100\n",
            " - 9s - loss: 64.3092\n",
            "Epoch 99/100\n",
            " - 9s - loss: 64.0258\n",
            "Epoch 100/100\n",
            " - 9s - loss: 64.0694\n"
          ],
          "name": "stdout"
        },
        {
          "output_type": "execute_result",
          "data": {
            "text/plain": [
              "<keras.callbacks.History at 0x7f5c405f2160>"
            ]
          },
          "metadata": {
            "tags": []
          },
          "execution_count": 173
        }
      ]
    },
    {
      "cell_type": "code",
      "metadata": {
        "id": "-7BLZ1zFPcvJ",
        "colab_type": "code",
        "colab": {}
      },
      "source": [
        "# make predictions\n",
        "trainPredict = model.predict(X_train_reshape)\n",
        "testPredict = model.predict(X_test_reshape)"
      ],
      "execution_count": 0,
      "outputs": []
    },
    {
      "cell_type": "code",
      "metadata": {
        "id": "HTTqbHTIRzNO",
        "colab_type": "code",
        "colab": {}
      },
      "source": [
        "trainPredict = sc.inverse_transform(trainPredict)"
      ],
      "execution_count": 0,
      "outputs": []
    },
    {
      "cell_type": "code",
      "metadata": {
        "id": "OEli4n25SJmk",
        "colab_type": "code",
        "colab": {}
      },
      "source": [
        "testPredict = sc.inverse_transform(testPredict)"
      ],
      "execution_count": 0,
      "outputs": []
    },
    {
      "cell_type": "code",
      "metadata": {
        "id": "SFfHb46ePtMd",
        "colab_type": "code",
        "colab": {}
      },
      "source": [
        "trainY = sc.inverse_transform(y_train)\n",
        "testY = sc.inverse_transform(y_test)"
      ],
      "execution_count": 0,
      "outputs": []
    },
    {
      "cell_type": "code",
      "metadata": {
        "id": "NPxWQmeYT-3X",
        "colab_type": "code",
        "colab": {
          "base_uri": "https://localhost:8080/",
          "height": 36
        },
        "outputId": "5fcbfa07-00a4-4710-da5b-59e28142663f"
      },
      "source": [
        "len(trainPredict)"
      ],
      "execution_count": 178,
      "outputs": [
        {
          "output_type": "execute_result",
          "data": {
            "text/plain": [
              "3888"
            ]
          },
          "metadata": {
            "tags": []
          },
          "execution_count": 178
        }
      ]
    },
    {
      "cell_type": "code",
      "metadata": {
        "id": "RFbCnnR5T473",
        "colab_type": "code",
        "colab": {
          "base_uri": "https://localhost:8080/",
          "height": 55
        },
        "outputId": "bd1c6562-30e4-4701-b2be-b2f66d4f0040"
      },
      "source": [
        "import math\n",
        "from sklearn.metrics import mean_squared_error\n",
        "\n",
        "\n",
        "trainScore = math.sqrt(mean_squared_error(trainY, trainPredict))\n",
        "print('Train Score: %.2f RMSE' % (trainScore))\n",
        "testScore = math.sqrt(mean_squared_error(testY, testPredict))\n",
        "print('Test Score: %.2f RMSE' % (testScore))"
      ],
      "execution_count": 179,
      "outputs": [
        {
          "output_type": "stream",
          "text": [
            "Train Score: 315.51 RMSE\n",
            "Test Score: 321.50 RMSE\n"
          ],
          "name": "stdout"
        }
      ]
    },
    {
      "cell_type": "markdown",
      "metadata": {
        "id": "8tWDuqM1NLfU",
        "colab_type": "text"
      },
      "source": [
        "## stacked LSTM with MeMory Between Batches"
      ]
    },
    {
      "cell_type": "code",
      "metadata": {
        "id": "69fsMHouboz_",
        "colab_type": "code",
        "colab": {}
      },
      "source": [
        "batch_size = 1\n",
        "look_back = 40"
      ],
      "execution_count": 0,
      "outputs": []
    },
    {
      "cell_type": "code",
      "metadata": {
        "id": "4IwmT382fFqg",
        "colab_type": "code",
        "colab": {
          "base_uri": "https://localhost:8080/",
          "height": 36
        },
        "outputId": "b876c6d0-1d39-4d1e-f75b-f7d3c2dbd893"
      },
      "source": [
        "X_train.shape"
      ],
      "execution_count": 125,
      "outputs": [
        {
          "output_type": "execute_result",
          "data": {
            "text/plain": [
              "(3499, 40)"
            ]
          },
          "metadata": {
            "tags": []
          },
          "execution_count": 125
        }
      ]
    },
    {
      "cell_type": "code",
      "metadata": {
        "id": "GZJ0akb8e7P3",
        "colab_type": "code",
        "colab": {}
      },
      "source": [
        "#data shape\n",
        "trainX = np.reshape(X_train, (X_train.shape[0], X_train.shape[1], 1))\n",
        "testX = np.reshape(X_test, (X_test.shape[0], X_test.shape[1], 1))"
      ],
      "execution_count": 0,
      "outputs": []
    },
    {
      "cell_type": "code",
      "metadata": {
        "id": "ugpPCloGgurB",
        "colab_type": "code",
        "colab": {
          "base_uri": "https://localhost:8080/",
          "height": 36
        },
        "outputId": "85a3a5ca-2558-475f-831b-72f3bac080e9"
      },
      "source": [
        "testX.shape"
      ],
      "execution_count": 144,
      "outputs": [
        {
          "output_type": "execute_result",
          "data": {
            "text/plain": [
              "(389, 40, 1)"
            ]
          },
          "metadata": {
            "tags": []
          },
          "execution_count": 144
        }
      ]
    },
    {
      "cell_type": "code",
      "metadata": {
        "id": "jLNU6G7HbB-8",
        "colab_type": "code",
        "colab": {}
      },
      "source": [
        "model = Sequential()\n",
        "model.add(LSTM(30, batch_input_shape=(batch_size, look_back, 1), stateful=True, return_sequences=True))\n",
        "model.add(LSTM(30, batch_input_shape=(batch_size, look_back, 1), stateful=True))\n",
        "model.add(Dense(18))"
      ],
      "execution_count": 0,
      "outputs": []
    },
    {
      "cell_type": "code",
      "metadata": {
        "id": "pjAIszbvhxZe",
        "colab_type": "code",
        "colab": {}
      },
      "source": [
        "#학습\n",
        "model.compile(loss='mean_squared_error', optimizer='adam')"
      ],
      "execution_count": 0,
      "outputs": []
    },
    {
      "cell_type": "markdown",
      "metadata": {
        "id": "Bh98Wsa7zUte",
        "colab_type": "text"
      },
      "source": [
        "```python\n",
        "# 오래걸림, loss매우 큼\n",
        "for i in range(10):\n",
        "\tmodel.fit(trainX, trainY, epochs=10, batch_size=batch_size, verbose=2, shuffle=False)\n",
        "\tmodel.reset_states()\n",
        "```"
      ]
    }
  ]
}